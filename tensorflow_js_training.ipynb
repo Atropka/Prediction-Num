{
 "cells": [
  {
   "cell_type": "code",
   "execution_count": 1,
   "metadata": {},
   "outputs": [
    {
     "ename": "ModuleNotFoundError",
     "evalue": "No module named 'tensorflow'",
     "output_type": "error",
     "traceback": [
      "\u001b[1;31m---------------------------------------------------------------------------\u001b[0m",
      "\u001b[1;31mModuleNotFoundError\u001b[0m                       Traceback (most recent call last)",
      "\u001b[1;32mc:\\Users\\enbzh\\OneDrive\\Рабочий стол\\Графика\\tensorflow_js_training.ipynb Cell 1'\u001b[0m in \u001b[0;36m<cell line: 1>\u001b[1;34m()\u001b[0m\n\u001b[1;32m----> <a href='vscode-notebook-cell:/c%3A/Users/enbzh/OneDrive/%D0%A0%D0%B0%D0%B1%D0%BE%D1%87%D0%B8%D0%B9%20%D1%81%D1%82%D0%BE%D0%BB/%D0%93%D1%80%D0%B0%D1%84%D0%B8%D0%BA%D0%B0/tensorflow_js_training.ipynb#ch0000000?line=0'>1</a>\u001b[0m \u001b[39mimport\u001b[39;00m \u001b[39mtensorflow\u001b[39;00m \u001b[39mas\u001b[39;00m \u001b[39mtf\u001b[39;00m\n\u001b[0;32m      <a href='vscode-notebook-cell:/c%3A/Users/enbzh/OneDrive/%D0%A0%D0%B0%D0%B1%D0%BE%D1%87%D0%B8%D0%B9%20%D1%81%D1%82%D0%BE%D0%BB/%D0%93%D1%80%D0%B0%D1%84%D0%B8%D0%BA%D0%B0/tensorflow_js_training.ipynb#ch0000000?line=2'>3</a>\u001b[0m \u001b[39m# import digit dataset\u001b[39;00m\n\u001b[0;32m      <a href='vscode-notebook-cell:/c%3A/Users/enbzh/OneDrive/%D0%A0%D0%B0%D0%B1%D0%BE%D1%87%D0%B8%D0%B9%20%D1%81%D1%82%D0%BE%D0%BB/%D0%93%D1%80%D0%B0%D1%84%D0%B8%D0%BA%D0%B0/tensorflow_js_training.ipynb#ch0000000?line=3'>4</a>\u001b[0m mnist \u001b[39m=\u001b[39m tf\u001b[39m.\u001b[39mkeras\u001b[39m.\u001b[39mdatasets\u001b[39m.\u001b[39mmnist\n",
      "\u001b[1;31mModuleNotFoundError\u001b[0m: No module named 'tensorflow'"
     ]
    }
   ],
   "source": [
    "import tensorflow as tf\n",
    "\n",
    "# import digit dataset\n",
    "mnist = tf.keras.datasets.mnist\n",
    "(tx, ty), (vx, vy) = mnist.load_data()\n",
    "\n",
    "# preprocess input types\n",
    "tx = tx[:,:,:,None].astype('float32')\n",
    "vx = vx[:,:,:,None].astype('float32')\n",
    "ty = ty.astype(int)\n",
    "vy = vy.astype(int)\n",
    "\n",
    "# display relevant info\n",
    "print(\"\"\"tx:%s, ty:%s\n",
    "vx:%s, vy:%s\"\"\" % (tx.shape, ty.shape, vx.shape, vy.shape))"
   ]
  },
  {
   "cell_type": "code",
   "execution_count": 1,
   "metadata": {},
   "outputs": [
    {
     "ename": "ModuleNotFoundError",
     "evalue": "No module named 'cv2'",
     "output_type": "error",
     "traceback": [
      "\u001b[1;31m---------------------------------------------------------------------------\u001b[0m",
      "\u001b[1;31mModuleNotFoundError\u001b[0m                       Traceback (most recent call last)",
      "\u001b[1;32mc:\\Users\\enbzh\\OneDrive\\Рабочий стол\\Графика\\tensorflow_js_training.ipynb Cell 1'\u001b[0m in \u001b[0;36m<cell line: 1>\u001b[1;34m()\u001b[0m\n\u001b[1;32m----> <a href='vscode-notebook-cell:/c%3A/Users/enbzh/OneDrive/%D0%A0%D0%B0%D0%B1%D0%BE%D1%87%D0%B8%D0%B9%20%D1%81%D1%82%D0%BE%D0%BB/%D0%93%D1%80%D0%B0%D1%84%D0%B8%D0%BA%D0%B0/tensorflow_js_training.ipynb#ch0000000?line=0'>1</a>\u001b[0m \u001b[39mimport\u001b[39;00m \u001b[39mcv2\u001b[39;00m\n\u001b[0;32m      <a href='vscode-notebook-cell:/c%3A/Users/enbzh/OneDrive/%D0%A0%D0%B0%D0%B1%D0%BE%D1%87%D0%B8%D0%B9%20%D1%81%D1%82%D0%BE%D0%BB/%D0%93%D1%80%D0%B0%D1%84%D0%B8%D0%BA%D0%B0/tensorflow_js_training.ipynb#ch0000000?line=1'>2</a>\u001b[0m \u001b[39mimport\u001b[39;00m \u001b[39mnumpy\u001b[39;00m \u001b[39mas\u001b[39;00m \u001b[39mnp\u001b[39;00m\n\u001b[0;32m      <a href='vscode-notebook-cell:/c%3A/Users/enbzh/OneDrive/%D0%A0%D0%B0%D0%B1%D0%BE%D1%87%D0%B8%D0%B9%20%D1%81%D1%82%D0%BE%D0%BB/%D0%93%D1%80%D0%B0%D1%84%D0%B8%D0%BA%D0%B0/tensorflow_js_training.ipynb#ch0000000?line=2'>3</a>\u001b[0m \u001b[39mdef\u001b[39;00m \u001b[39mletters_extract\u001b[39m(image_file: \u001b[39mstr\u001b[39m, out_size\u001b[39m=\u001b[39m\u001b[39m28\u001b[39m):\n",
      "\u001b[1;31mModuleNotFoundError\u001b[0m: No module named 'cv2'"
     ]
    }
   ],
   "source": [
    "import cv2\n",
    "import numpy as np\n",
    "def letters_extract(image_file: str, out_size=28):\n",
    "    img = cv2.imread(image_file)\n",
    "    gray = cv2.cvtColor(img, cv2.COLOR_BGR2GRAY)\n",
    "    ret, thresh = cv2.threshold(gray, 0, 255, cv2.THRESH_BINARY)\n",
    "    img_erode = cv2.erode(thresh, np.ones((3, 3), np.uint8), iterations=1)\n",
    "\n",
    "    # Get contours\n",
    "    contours, hierarchy = cv2.findContours(img_erode, cv2.RETR_TREE, cv2.CHAIN_APPROX_NONE)\n",
    "\n",
    "    output = img.copy()\n",
    "\n",
    "    letters = []\n",
    "    for idx, contour in enumerate(contours):\n",
    "        (x, y, w, h) = cv2.boundingRect(contour)\n",
    "\n",
    "        if hierarchy[0][idx][3] == 0:\n",
    "            cv2.rectangle(output, (x, y), (x + w, y + h), (70, 0, 0), 1)\n",
    "            letter_crop = gray[y:y + h, x:x + w]\n",
    "\n",
    "            size_max = max(w, h)\n",
    "            letter_square = 255 * np.ones(shape=[size_max, size_max], dtype=np.uint8)\n",
    "            if w > h:\n",
    "\n",
    "                y_pos = size_max//2 - h//2\n",
    "                letter_square[y_pos:y_pos + h, 0:w] = letter_crop\n",
    "            elif w < h:\n",
    "\n",
    "                x_pos = size_max//2 - w//2\n",
    "                letter_square[0:h, x_pos:x_pos + w] = letter_crop\n",
    "            else:\n",
    "                letter_square = letter_crop\n",
    "\n",
    "\n",
    "            letters.append((x, w, cv2.resize(letter_square, (out_size, out_size), interpolation=cv2.INTER_AREA)))\n",
    "\n",
    "    letters.sort(key=lambda x: x[0], reverse=False)\n",
    "    return letters"
   ]
  },
  {
   "cell_type": "code",
   "execution_count": null,
   "metadata": {},
   "outputs": [],
   "source": [
    "import matplotlib.pyplot as plt\n",
    "\n",
    "# create a grid of plots\n",
    "f, axs = plt.subplots(10,10,figsize=(10,10))\n",
    "\n",
    "# plot a sample number into each subplot\n",
    "for i in range(10):\n",
    "  for j in range(10):\n",
    "    # get a sample image for the 'i' number\n",
    "    img = tx[ty==i,:,:,0][j,:,:]\n",
    "\n",
    "    # plot image in axes\n",
    "    axs[i,j].imshow(img, cmap='gray')\n",
    "\n",
    "    # remove x and y axis\n",
    "    axs[i,j].axis('off')\n",
    "\n",
    "# remove unecessary white space\n",
    "plt.tight_layout()\n",
    "\n",
    "# display image\n",
    "plt.show()"
   ]
  },
  {
   "cell_type": "code",
   "execution_count": null,
   "metadata": {},
   "outputs": [],
   "source": [
    "# defines a standard 2d convolution block with batch normalisation, \n",
    "# relu activation, max pooling and dropout\n",
    "\n",
    "def normConvBlock(filters, return_model=True, name=None):\n",
    "  lays = [\n",
    "    tf.keras.layers.Conv2D(filters, 3, padding='valid', name=name+'_conv'),\n",
    "    tf.keras.layers.BatchNormalization(name=name+'_bn'),\n",
    "    tf.keras.layers.Activation('relu', name=name+'_act'),\n",
    "    tf.keras.layers.MaxPooling2D(2, strides=2, name=name+'_mpool'),\n",
    "    tf.keras.layers.Dropout(0.1, name=name+'_drop'),\n",
    "  ]\n",
    "\n",
    "  if return_model:\n",
    "    return tf.keras.models.Sequential(lays, name=name)\n",
    "  else:\n",
    "    return lays"
   ]
  },
  {
   "cell_type": "code",
   "execution_count": null,
   "metadata": {},
   "outputs": [],
   "source": [
    "# create NN model\n",
    "model = tf.keras.models.Sequential()\n",
    "model.add(normConvBlock(64, name='b1'))\n",
    "model.add(normConvBlock(128, name='b2'))\n",
    "model.add(tf.keras.layers.Flatten(name='flat'))\n",
    "model.add(tf.keras.layers.Dense(10, activation='softmax', name='logit'))\n",
    "\n",
    "# compile model with adam optimizer and crossentropy loss\n",
    "# note that 'sparse_categorical_crossentropy' loss should be used as our target\n",
    "# is encoded as ordinal. if using one hot change this to 'categorical_crossentropy'\n",
    "model.compile('adam', 'sparse_categorical_crossentropy', metrics=['acc'])\n",
    "\n",
    "# test model with a sample image\n",
    "_ = model(tx[:1,:,:,:])\n",
    "\n",
    "# summary of model structure\n",
    "tf.keras.utils.plot_model(\n",
    "    model, \n",
    "    show_shapes=True, \n",
    "    show_layer_names=True, \n",
    "    show_dtype=True,\n",
    "    expand_nested=True,\n",
    "    dpi = 50\n",
    ")"
   ]
  },
  {
   "cell_type": "code",
   "execution_count": null,
   "metadata": {},
   "outputs": [],
   "source": [
    "# define an early stopping callback. This callback will load the iteration with\n",
    "# the best val loss at the end of training\n",
    "es_call = tf.keras.callbacks.EarlyStopping(\n",
    "    monitor='val_loss', min_delta=0, patience=2, verbose=0,\n",
    "    mode='auto', baseline=None, restore_best_weights=True\n",
    ")\n",
    "\n",
    "# fit the model with the mnist dataset\n",
    "history = model.fit(tx, ty, validation_data=(vx, vy), epochs=20, batch_size=1024, callbacks=[es_call])"
   ]
  },
  {
   "cell_type": "code",
   "execution_count": 2,
   "metadata": {},
   "outputs": [
    {
     "name": "stderr",
     "output_type": "stream",
     "text": [
      "���⥬� �� 㤠���� ���� 㪠����� ����.\n"
     ]
    },
    {
     "ename": "ModuleNotFoundError",
     "evalue": "No module named 'tensorflowjs'",
     "output_type": "error",
     "traceback": [
      "\u001b[1;31m---------------------------------------------------------------------------\u001b[0m",
      "\u001b[1;31mModuleNotFoundError\u001b[0m                       Traceback (most recent call last)",
      "\u001b[1;32mc:\\Users\\enbzh\\OneDrive\\Рабочий стол\\Графика\\tensorflow_js_training.ipynb Cell 6'\u001b[0m in \u001b[0;36m<cell line: 4>\u001b[1;34m()\u001b[0m\n\u001b[0;32m      <a href='vscode-notebook-cell:/c%3A/Users/enbzh/OneDrive/%D0%A0%D0%B0%D0%B1%D0%BE%D1%87%D0%B8%D0%B9%20%D1%81%D1%82%D0%BE%D0%BB/%D0%93%D1%80%D0%B0%D1%84%D0%B8%D0%BA%D0%B0/tensorflow_js_training.ipynb#ch0000006?line=0'>1</a>\u001b[0m \u001b[39m# install / update the tensorflowjs package\u001b[39;00m\n\u001b[0;32m      <a href='vscode-notebook-cell:/c%3A/Users/enbzh/OneDrive/%D0%A0%D0%B0%D0%B1%D0%BE%D1%87%D0%B8%D0%B9%20%D1%81%D1%82%D0%BE%D0%BB/%D0%93%D1%80%D0%B0%D1%84%D0%B8%D0%BA%D0%B0/tensorflow_js_training.ipynb#ch0000006?line=1'>2</a>\u001b[0m get_ipython()\u001b[39m.\u001b[39msystem(\u001b[39m'\u001b[39m\u001b[39mpip install tensorflowjs > /dev/null 2>&1\u001b[39m\u001b[39m'\u001b[39m)\n\u001b[1;32m----> <a href='vscode-notebook-cell:/c%3A/Users/enbzh/OneDrive/%D0%A0%D0%B0%D0%B1%D0%BE%D1%87%D0%B8%D0%B9%20%D1%81%D1%82%D0%BE%D0%BB/%D0%93%D1%80%D0%B0%D1%84%D0%B8%D0%BA%D0%B0/tensorflow_js_training.ipynb#ch0000006?line=3'>4</a>\u001b[0m \u001b[39mimport\u001b[39;00m \u001b[39mtensorflowjs\u001b[39;00m\n\u001b[0;32m      <a href='vscode-notebook-cell:/c%3A/Users/enbzh/OneDrive/%D0%A0%D0%B0%D0%B1%D0%BE%D1%87%D0%B8%D0%B9%20%D1%81%D1%82%D0%BE%D0%BB/%D0%93%D1%80%D0%B0%D1%84%D0%B8%D0%BA%D0%B0/tensorflow_js_training.ipynb#ch0000006?line=4'>5</a>\u001b[0m \u001b[39mprint\u001b[39m(tensorflowjs\u001b[39m.\u001b[39m__version__)\n\u001b[0;32m      <a href='vscode-notebook-cell:/c%3A/Users/enbzh/OneDrive/%D0%A0%D0%B0%D0%B1%D0%BE%D1%87%D0%B8%D0%B9%20%D1%81%D1%82%D0%BE%D0%BB/%D0%93%D1%80%D0%B0%D1%84%D0%B8%D0%BA%D0%B0/tensorflow_js_training.ipynb#ch0000006?line=6'>7</a>\u001b[0m \u001b[39m# convert keras model to tensorflow js\u001b[39;00m\n",
      "\u001b[1;31mModuleNotFoundError\u001b[0m: No module named 'tensorflowjs'"
     ]
    }
   ],
   "source": [
    "# install / update the tensorflowjs package\n",
    "!pip install tensorflowjs > /dev/null 2>&1\n",
    "\n",
    "import tensorflowjs\n",
    "print(tensorflowjs.__version__)\n",
    "\n",
    "# convert keras model to tensorflow js\n",
    "tensorflowjs.converters.save_keras_model(model, './mnist_tf_keras_js_model/')"
   ]
  },
  {
   "cell_type": "code",
   "execution_count": null,
   "metadata": {},
   "outputs": [],
   "source": [
    "# download generated files from colab to local\n",
    "\n",
    "from google.colab import files\n",
    "\n",
    "files.download(\"mnist_tf_keras_js_model/group1-shard1of1.bin\")\n",
    "files.download(\"mnist_tf_keras_js_model/model.json\")"
   ]
  }
 ],
 "metadata": {
  "interpreter": {
   "hash": "e3c6e2895f96f67d590084520a6814668c494327903331135bfe8f5a578a2e52"
  },
  "kernelspec": {
   "display_name": "Python 3.10.2 64-bit",
   "language": "python",
   "name": "python3"
  },
  "language_info": {
   "codemirror_mode": {
    "name": "ipython",
    "version": 3
   },
   "file_extension": ".py",
   "mimetype": "text/x-python",
   "name": "python",
   "nbconvert_exporter": "python",
   "pygments_lexer": "ipython3",
   "version": "3.10.2"
  },
  "orig_nbformat": 4
 },
 "nbformat": 4,
 "nbformat_minor": 2
}
